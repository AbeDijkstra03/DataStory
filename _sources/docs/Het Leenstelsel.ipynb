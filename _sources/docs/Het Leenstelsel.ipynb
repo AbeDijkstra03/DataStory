{
 "cells": [
  {
   "cell_type": "markdown",
   "id": "c4eeb044",
   "metadata": {},
   "source": [
    "# Het Leenstelsel\n",
    "\n",
    "door groep N2 / 60:\n",
    "- Abe Dijkstra\n",
    "- Shilana Rajabi Haji Khosh\n",
    "- Sem Loogman\n",
    "- Sam Zwarts"
   ]
  },
  {
   "cell_type": "code",
   "execution_count": 1,
   "id": "cf48042a",
   "metadata": {
    "tags": [
     "hide-input"
    ]
   },
   "outputs": [
    {
     "data": {
      "text/html": [
       "<img src=\"https://img.parool.nl/251267d54c362a760e6ce4aed1cbaf7b7b2a60df/de-onvrede-over-het-leenstelsel-neemt-toe-wat-nu\" width=\"920\"/>"
      ],
      "text/plain": [
       "<IPython.core.display.Image object>"
      ]
     },
     "metadata": {},
     "output_type": "display_data"
    },
    {
     "name": "stdout",
     "output_type": "stream",
     "text": [
      "© Het Parool / ANP\n"
     ]
    }
   ],
   "source": [
    "url = 'https://img.parool.nl/251267d54c362a760e6ce4aed1cbaf7b7b2a60df/de-onvrede-over-het-leenstelsel-neemt-toe-wat-nu'\n",
    "\n",
    "from IPython.display import Image, display\n",
    "\n",
    "image = Image(url=url, width=920)\n",
    "\n",
    "display(image)\n",
    "print('© Het Parool / ANP')"
   ]
  },
  {
   "cell_type": "markdown",
   "id": "45284d53",
   "metadata": {},
   "source": [
    "## Introductie\n",
    "\n",
    "Hoe het hoger onderwijs moet worden gefinancierd is al lange tijd een lastig onderwerp in Nederland. Moeten de studenten zelf hun geld lenen of is een donatie van de overheid (oftewel een beurs) een betere optie? Sinds 1 september 2015 is het leenstelsel toegepast in Nederland. Hierbij kan de student, voor een relatief lage rente, geld lenen tijdens de studiejaren. Op dit moment is dit 0,46% rente per jaar. Ook zijn er mogelijkheden voor een aanvullende beurs, de hoogte hiervan wordt aan de hand van het inkomen van de ouders bepaald. Ook \n",
    "Dit systeem gaat veranderen dit jaar, de basisbeurs wordt weer ingevoerd. Nederland gebruikte een vergelijkbaar systeem voordat het leenstelsel werd ingevoerd. Hierbij zullen studenten een bedrag van €274,90 krijgen per maand als ze uitwonend zijn of €110,30 als ze thuiswonend zijn (Ministerie van Algemene Zaken, 2023). Dit bedrag wordt omgezet naar een gift als de studenten binnen 10 jaar hun diploma halen. Dit betekent dat de studenten dus weer ‘gratis’ geld gaan krijgen elke maand. \n",
    "Deze verandering heeft veel tijd gekost in de politiek en is uiteindelijk ontstaan wegens onvrede met het leenstelsel. Maar is deze onvrede wel terecht? Is het leenstelsel een negatief systeem voor studenten? Om hierachter te komen zullen wij de periode rond het invoeren van het leenstelsel onderzoeken. Hierbij zullen wij twee verschillende perspectieven aanhouden. Volgens ons eerste perspectief was het leenstelsel een achteruitgang vergeleken met de voorgaande basisbeurs. Volgens ons tweede perspectief was het leenstelsel niet nadelig voor studenten vergeleken met de voorgaande basisbeurs.\n",
    "\n",
    "\n"
   ]
  },
  {
   "cell_type": "markdown",
   "id": "e391c0c6",
   "metadata": {},
   "source": [
    "## Dataset en voorbereiding\n",
    "\n",
    "Om te bepalen wat de invloed was van het invoeren van het leenstelsel op het aantal studenten in Nederland is gebruikgemaakt van een database van het CBS (Leerlingen En Studenten; Onderwijssoort, Woonregio, n.d.). Deze database bevat informatie over het aantal leerlingen en studenten in de regio’s binnen Nederland en in het totaal. Deze database is eerst voorbewerkt door de onderwijssoorten te reduceren naar ‘hoger beroepsonderwijs’ en ‘wetenschappelijk onderwijs’. Hiermee worden onderwijssoorten die niet beïnvloed waren door het leenstelsel eruit gefilterd. Ook wordt er alleen naar de locatie ‘Nederland’ gekeken omdat de regio’s zelf niet specifiek worden onderzocht. \n",
    "\n",
    "Om te bepalen hoeveel geld er naar het hoger onderwijs is gegaan rond het invoeren van het leenstelsel is gebruikgemaakt van een andere database van het CBS (Onderwijs; Uitgaven Aan Onderwijs En CBS/OESO Indicatoren, n.d.). Hierbij zijn de onderwijssoorten gereduceerd tot ‘hoger beroepsonderwijs’ en ‘wetenschappelijk onderwijs’. Hiermee worden onderwijssoorten die niet beïnvloed waren door het leenstelsel eruit gefilterd. \n",
    "\n",
    "\n",
    "Details over de verdere verwerking van de datasets zijn te vinden in het volgende codeblok:"
   ]
  },
  {
   "cell_type": "code",
   "execution_count": 2,
   "id": "643930cc",
   "metadata": {
    "tags": [
     "hide-input"
    ]
   },
   "outputs": [],
   "source": [
    "import pandas as pd\n",
    "import matplotlib.pyplot as plt\n",
    "import plotly.express as px\n",
    "\n",
    "# https://opendata.cbs.nl/statline/portal.html?_la=nl&_catalog=CBS&tableId=71450ned&_theme=344\n",
    "# Dataset voor grafische weergave:\n",
    "# Geslacht = Totaal mannen en vrouwen\n",
    "# Leeftijd = Totaal\n",
    "# Onderwijssoort = Hoger beroepsonderwijs & Wetenschappelijk onderwijs\n",
    "# Regio's = Nederland\n",
    "students = pd.read_csv('students.csv', delimiter=';', quotechar='\"')\n",
    "\n",
    "# https://opendata.cbs.nl/statline/portal.html?_la=nl&_catalog=CBS&tableId=80393ned&_theme=361\n",
    "# Dataset voor grafische weergave:\n",
    "# Onderwijssectoren = Hoger beroepsonderwijs & Wetenschappelijk onderwijs\n",
    "spendings = pd.read_csv('spendings.csv', delimiter=';', quotechar='\"')\n",
    "\n",
    "# Jaren in het goede formaat krijgen\n",
    "spendings = spendings.assign(Perioden=spendings['Perioden'].str.removesuffix('JJ00'))\n",
    "students = students.assign(Perioden=students['Perioden'].str.removesuffix('SJ00'))\n",
    "\n",
    "# Schooljaren in plaats van hele jaren\n",
    "students = students.assign(Perioden=students['Perioden'].apply(lambda periode: f'{periode[-2:]}/{str(int(periode) + 1)[-2:]}'))\n",
    "\n",
    "# Uitgaven in miljoenen\n",
    "spendings = spendings.assign(TotaalUitgavenAanOnderwijs_1=spendings['TotaalUitgavenAanOnderwijs_1'] * (10**6))\n",
    "spendings = spendings.assign(TotaalOverheid_2=spendings['TotaalOverheid_2'] * (10**6))"
   ]
  },
  {
   "cell_type": "markdown",
   "id": "9bb5d718",
   "metadata": {},
   "source": [
    "## Het Eerste Perspectief\n",
    "\n",
    "Volgens het eerste perspectief was het leenstelsel een achteruitgang vergeleken met de voorgaande basisbeurs. Om dit perspectief te onderbouwen zullen drie verschillende onderwerpen worden uitgelicht die zijn beïnvloed door het leenstelsel. Het zal hierbij gaan over het geluk van de studenten, de hogere schulden van studenten en het verschil tussen arme en rijke studenten. "
   ]
  },
  {
   "cell_type": "markdown",
   "id": "68060ef3",
   "metadata": {},
   "source": [
    "### Het eerste argument voor het eerste perspectief\n",
    "\n",
    "Studenten zijn minder gelukkig sinds de invoering van het leenstelsel. De invoering van het leenstelsel heeft geleid tot meer studieschuld voor studenten. Dit kan negatieve effecten hebben op de mentale gezondheid van deze studenten. Dit is schadelijk voor studenten en een goede reden dat het leenstelsel een achteruitgang was vergeleken met de voorgaande basisbeurs."
   ]
  },
  {
   "cell_type": "code",
   "execution_count": 3,
   "id": "79fd2829",
   "metadata": {
    "tags": [
     "hide-input"
    ]
   },
   "outputs": [],
   "source": [
    "# Ruimte voor figuur 1"
   ]
  },
  {
   "cell_type": "markdown",
   "id": "8c65dbbf",
   "metadata": {},
   "source": [
    "> _Figuur 1: Beschrijvende tekst over figuur 1._"
   ]
  },
  {
   "cell_type": "markdown",
   "id": "12daed68",
   "metadata": {},
   "source": [
    "Onderbouwing eerste argument van eerste perspectief op basis van figuur 1"
   ]
  },
  {
   "cell_type": "markdown",
   "id": "3ddf30cb",
   "metadata": {},
   "source": [
    "### Het tweede argument voor het eerste perspectief\n",
    "\n",
    "Studieschuld is toegenomen sinds de invoering van het leenstelsel en er gaat te weinig van dit geld naar het onderwijs in verhouding. Een van de argumenten voor het leenstelsel was dat de extra kosten die studenten gingen maken met het leenstelsel zouden worden geïnvesteerd in het onderwijs. De studenten zouden extra moeten betalen voor hun studie, maar zouden daarvoor ook een betere studie terugkrijgen. Veel van het geld dat studenten hebben moeten betalen wegens het leenstelsel is niet naar het onderwijs gegaan. "
   ]
  },
  {
   "cell_type": "code",
   "execution_count": 4,
   "id": "1915ac6d",
   "metadata": {
    "tags": [
     "hide-input"
    ]
   },
   "outputs": [],
   "source": [
    "# Ruimte voor figuur 2"
   ]
  },
  {
   "cell_type": "markdown",
   "id": "3ace6906",
   "metadata": {},
   "source": [
    "> _Figuur 2: Beschrijvende tekst over figuur 2._"
   ]
  },
  {
   "cell_type": "markdown",
   "id": "791253e6",
   "metadata": {},
   "source": [
    "Onderbouwing tweede argument van eerste perspectief op basis van figuur 2."
   ]
  },
  {
   "cell_type": "markdown",
   "id": "c0ba4bd3",
   "metadata": {},
   "source": [
    "### Het derde argument voor het eerste perspectief\n",
    "\n",
    "Het leenstelsel heeft de verschillen tussen arme en rijke studenten vergroot. Studeren in Nederland is altijd al iets geweest wat proportioneel meer werd gedaan door kinderen van rijke ouders dan door kinderen van arme ouders. Dit verschil is toegenomen sinds het invoeren van het leenstelsel. Het invoeren van extra kosten is een groter nadeel voor mensen met een minder bevoordeelde achtergrond dan mensen die wel met deze voordelen zijn opgegroeid. "
   ]
  },
  {
   "cell_type": "code",
   "execution_count": 5,
   "id": "136630e3",
   "metadata": {
    "tags": [
     "hide-input"
    ]
   },
   "outputs": [],
   "source": [
    "# Ruimte voor figuur 3"
   ]
  },
  {
   "cell_type": "markdown",
   "id": "50fd4f42",
   "metadata": {},
   "source": [
    "> _Figuur 3: Beschrijvende tekst over figuur 3._"
   ]
  },
  {
   "cell_type": "markdown",
   "id": "3c0d1291",
   "metadata": {},
   "source": [
    "Onderbouwing derde argument van eerste perspectief op basis van figuur 3. "
   ]
  },
  {
   "cell_type": "markdown",
   "id": "58442385",
   "metadata": {},
   "source": [
    "## Het Tweede Perspectief\n",
    "\n",
    "Volgens het tweede perspectief was het leenstelsel niet nadelig voor studenten vergeleken met de voorgaande basisbeurs. Om dit argument te onderbouwen zullen twee onderwerpen worden behandeld die zijn beïnvloed door het leenstelsel. Het zal hierbij gaan over het totaal aantal studenten en de lonen van hoogopgeleiden vergeleken met laagopgeleiden.   "
   ]
  },
  {
   "cell_type": "markdown",
   "id": "5161facf",
   "metadata": {},
   "source": [
    "### Het eerste argument voor het tweede perspectief\n",
    "\n",
    "Het aantal studenten is elk jaar toegenomen, ook sinds het leenstelsel is ingevoerd. Het leenstelsel heeft er dus niet voor gezorgd dat er minder studenten zijn gaan studeren. "
   ]
  },
  {
   "cell_type": "code",
   "execution_count": 6,
   "id": "23496139",
   "metadata": {
    "tags": [
     "hide-input"
    ]
   },
   "outputs": [],
   "source": [
    "# Ruimte voor figuur 4"
   ]
  },
  {
   "cell_type": "markdown",
   "id": "f7d2922d",
   "metadata": {},
   "source": [
    "> _Figuur 4: Beschrijvende tekst over figuur 4._"
   ]
  },
  {
   "cell_type": "markdown",
   "id": "7aa1b686",
   "metadata": {},
   "source": [
    "Korte onderbouwing eerste argument van tweede perspectief op basis van figuur 4"
   ]
  },
  {
   "cell_type": "code",
   "execution_count": 7,
   "id": "ee21a079",
   "metadata": {
    "tags": [
     "hide-input"
    ]
   },
   "outputs": [],
   "source": [
    "# Ruimte voor figuur 5"
   ]
  },
  {
   "cell_type": "markdown",
   "id": "07018b73",
   "metadata": {},
   "source": [
    "> _Figuur 5: Beschrijvende tekst over figuur 5._"
   ]
  },
  {
   "cell_type": "markdown",
   "id": "4e0ab7fd",
   "metadata": {},
   "source": [
    "Korte onderbouwing eerste argument van tweede perspectief op basis van figuur 5"
   ]
  },
  {
   "cell_type": "markdown",
   "id": "20705814",
   "metadata": {},
   "source": [
    "### Het tweede argument voor het tweede perspectief\n",
    "\n",
    "Lonen onder hogeropgeleiden zijn gemiddeld hoger dan de lonen van lager opgeleiden. Het is daarom onredelijk om de groep hogeropgeleiden te financieren bij hun studie, omdat ze de schuld hiervan zelf prima kunnen betalen met hun gemiddeld hogere loon. "
   ]
  },
  {
   "cell_type": "code",
   "execution_count": 8,
   "id": "30310d0c",
   "metadata": {
    "tags": [
     "hide-input"
    ]
   },
   "outputs": [],
   "source": [
    "# Ruimte voor figuur 6"
   ]
  },
  {
   "cell_type": "markdown",
   "id": "464cc306",
   "metadata": {},
   "source": [
    "> _Figuur 6: Beschrijvende tekst over figuur 6._"
   ]
  },
  {
   "cell_type": "markdown",
   "id": "37d96eb3",
   "metadata": {},
   "source": [
    "Onderbouwing van tweede argument van tweede perspectief op basis van figuur 6"
   ]
  },
  {
   "cell_type": "markdown",
   "id": "2bcbec62",
   "metadata": {},
   "source": [
    "## Conclusie\n",
    "\n",
    "Er zijn twee verschillende perspectieven besproken rond het onderwerp of het leenstelsel invoeren wel of niet slecht was voor de Nederlandse studenten. Deze twee verschillende perspectieven hadden beide argumenten om hun claim te onderbouwen. Wij vinden dat de argumenten van perspectief 1, ookwel dat het leenstelsel negatief was voor de Nederlandse studenten, beter zijn dan de argumenten van perspectief 2. Dit is omdat wij de argumenten van perspectief 1 over belangrijkere onderwerpen vinden gaan dan de argumenten van perspectief 2. Hierom sluiten wij ons aan bij de stelling dat het leenstelsel negatief was voor de Nederlandse studenten. "
   ]
  },
  {
   "cell_type": "markdown",
   "id": "5b302c48",
   "metadata": {},
   "source": [
    "## Reflectie\n",
    "\n",
    "In de reflectie van onze TA en medestudenten hebben we te horen gekregen dat de opbouw van onze draft niet geheel logisch was en misschien wat kon worden verbeterd. De draft had namelijk afwisselende perspectieven. We hebben daarom in het eindproduct gekozen om eerst het eerste perspectief in zijn geheel te behandelen en daarna het tweede perspectief in zijn geheel. \n",
    "Ook hebben we de feedback gekregen dat de variatie van onze visualisaties niet voldoende was. We hebben daarom meer verschillende typen visualisaties toegevoegd in het eindproduct.\n",
    "De captions van de visualisaties waren aanwezig in de draft, maar waren eigenlijk te groot en probeerden de argumenten ook uit te leggen. Dit is in het veranderd zodat de captions alleen nog maar de figuur beschrijven en de argumentatie buiten de captions valt. "
   ]
  },
  {
   "cell_type": "markdown",
   "id": "459e22a2",
   "metadata": {},
   "source": [
    "## Werkverdeling\n",
    "\n",
    "Abe: Groepsgenoten bij elkaar gezocht. Onderwerp bedacht. Het Jupyter Book gemaakt. Draftversie Jupyter Notebook gemaakt. Datasets gedownload. Teksten gecontrolleerd op spellings- en grammaticafouten. Vijf lijngrafieken gemaakt voor draft. Printscreens gemaakt van heads datasets voor proposal. Opzet eindproduct bedacht.\n",
    "\n",
    "Sam: Introductie geschreven. Beschrijvingen geschreven over twee datasets en de voorbewerking daarvan. Twee gebruikte datasets gevonden (Onderwijs; Uitgaven Aan Onderwijs En CBS/OESO Indicatoren & Leerlingen En Studenten; Onderwijssoort, Woonregio). Meegeholpen bij het bepalen van de twee verschillende perspectieven. Conclusie geschreven. Reflectie geschreven. Aanwezig geweest bij het reflectiemoment en project gepresenteerd. \n",
    "\n",
    "Sem: Contact gelegd met Abe om een groep te vormen. Datasets gefilterd. Datasets gemerged op jaren. Nieuwe relevante columns gecreëerd op basis van bestaande columns. Een aantal visualisaties bedacht en uitgewerkt. Diverse lijn grafieken gemaakt en de relevantie bepaald. Vindingen per grafiek opgeschreven en koppelingen met het onderwerp gemaakt. \n",
    "\n",
    "Shilana: Grafiek gemaakt met percentuele toenamen studenten per jaar. Meegedacht met het interpreteren van de datasets. Meegedacht met het kiezen van het onderwerp. Meegedacht met het maken van de opzet. Controlleren van het eindproduct op fouten."
   ]
  },
  {
   "cell_type": "markdown",
   "id": "2d34e6f5",
   "metadata": {},
   "source": [
    "## Literatuurlijst\n",
    "\n",
    "\n",
    "Leerlingen en studenten; onderwijssoort, woonregio. (n.d.). CBS Statline. https://opendata.cbs.nl/statline#/CBS/nl/dataset/71450ned/table?ts=1687175132506\n",
    "\n",
    "Onderwijs; uitgaven aan onderwijs en CBS/OESO indicatoren. (n.d.). CBS Statline. https://opendata.cbs.nl/statline#/CBS/nl/dataset/80393ned/table?ts=1686669534168\n",
    "\n",
    "Ministerie van Algemene Zaken. (2023, 12 juni). Herinvoering basisbeurs en tegemoetkoming studenten. Hoger onderwijs | Rijksoverheid.nl. https://www.rijksoverheid.nl/onderwerpen/hoger-onderwijs/herinvoering-basisbeurs-en-tegemoetkoming\n"
   ]
  }
 ],
 "metadata": {
  "kernelspec": {
   "display_name": "Python 3 (ipykernel)",
   "language": "python",
   "name": "python3"
  },
  "language_info": {
   "codemirror_mode": {
    "name": "ipython",
    "version": 3
   },
   "file_extension": ".py",
   "mimetype": "text/x-python",
   "name": "python",
   "nbconvert_exporter": "python",
   "pygments_lexer": "ipython3",
   "version": "3.10.9"
  }
 },
 "nbformat": 4,
 "nbformat_minor": 5
}
