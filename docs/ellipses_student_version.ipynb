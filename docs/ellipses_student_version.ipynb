{
 "cells": [
  {
   "cell_type": "markdown",
   "id": "cd01b1f3",
   "metadata": {},
   "source": [
    "# Assignment 3: Drawing conics\n",
    "\n",
    "The goal of this assignment is to implement a function `plot_conic(c1, c2, c3, c4, x_lim, y_lim)` which given an equation \n",
    "$$\n",
    "c_1 x^2 + c_2 y^2 + c_3 xy  = c_4\n",
    "$$\n",
    "plot the conic (which might be an ellipse or an hyperbola) associated with the equation. It is a generalization of the exercises you did during the first werkcollege of week $7$ (so it might also be easier to start the laptop assigment right after that werkcollege).\n",
    "\n",
    "## Part 1: computing the eigenvalues, the orthogonal matrix and identifying the type of the conic\n",
    "\n",
    "As you may remember, in order to plot the conic, the first steps are: \n",
    "1) find the matrix $A$ associated with the quadratic form \n",
    "\n",
    "2) compute the eigenvalues of $A$ and the orthogonal matrix $Q$ diagonalizing $A$ (i.e. $Q^TAQ$ is a diagonal matrix containing the eigenvalues)\n",
    "\n",
    "3) using the signs of the eigenvalues, determine if the conic is an ellipse, an horizontal hyperbola or a vertical hyperbola.\n",
    "\n",
    "### TODO 1 (0.25 pt): finding the matrix associated with the quadradic form\n",
    "\n",
    "We ask you to write a function `get_quadratic_form(c1, c2, c3)` returning the symmetric matrix $A$ (or numpy array) associated with the quadratric form $c_1 x^2 + c_2 y^2 + c_3 xy $. In other words, the quadratic form should be equal to $[x,y] A [x,y]^T$."
   ]
  },
  {
   "cell_type": "code",
   "execution_count": null,
   "id": "080b5852",
   "metadata": {},
   "outputs": [],
   "source": [
    "import numpy as np\n",
    "import matplotlib.pyplot as plt \n",
    "import math\n",
    "\n",
    "\n",
    "def get_quadratic_form(c1, c2, c3):\n",
    "    # TODO\n",
    "    pass"
   ]
  },
  {
   "cell_type": "markdown",
   "id": "25720ac0",
   "metadata": {},
   "source": [
    "You can run the cell below to test your code."
   ]
  },
  {
   "cell_type": "code",
   "execution_count": null,
   "id": "c1a80182",
   "metadata": {},
   "outputs": [],
   "source": [
    "A = get_quadratic_form(2, 6, 8)\n",
    "x = np.array([[1.,],[3.,]])\n",
    "assert x.T @ A @ x == 80., 'Basic test failed'\n",
    "\n",
    "A = get_quadratic_form(-2, 10, 8)\n",
    "x = np.array([[2.,],[-3.,]])\n",
    "assert x.T @ A @ x == 34., 'Basic test failed'\n",
    "\n",
    "A = get_quadratic_form(3, -9, -6)\n",
    "x = np.array([[-3.,],[2.,]])\n",
    "assert x.T @ A @ x == 27., 'Basic test failed'\n",
    "\n",
    "print('Function seems to work')"
   ]
  },
  {
   "cell_type": "markdown",
   "id": "673b6480",
   "metadata": {},
   "source": [
    "### TODO 2 (0.5 pt): computing the eigenvalues and the orthogonal matrix\n",
    "\n",
    "We ask you to implement two functions: `get_eigenvalues(c1, c2, c3)` and `get_orthogonal_matrix(c1, c2, c3)`. The function `get_eigenvalues`should return a 1D numpy array containing the two eigenvalues of the matrix $A$ associated with the quadratric form $c_1 x^2 + c_2 y^2 + c_3 xy $ (in other words, $A$ is the matrix returned by the function `get_quadratic_form`).\n",
    "\n",
    "The function `get_orthogonal_matrix` should return the numpy array representing the orthogonal matrix $Q$ diagonalizing $A$ (i.e. $Q^TAQ$ is a diagonal matrix containing the eigenvalues).\n",
    "\n",
    "Hint. In order to compute the eigenvalues and $Q$, you can use any function from the module [np.linalg](https://numpy.org/doc/stable/reference/routines.linalg.html). "
   ]
  },
  {
   "cell_type": "code",
   "execution_count": null,
   "id": "02518d48",
   "metadata": {},
   "outputs": [],
   "source": [
    "def get_eigenvalues(c1, c2, c3):\n",
    "    # TODO\n",
    "    pass\n",
    "\n",
    "def get_orthogonal_matrix(c1, c2, c3):\n",
    "    # TODO\n",
    "    pass"
   ]
  },
  {
   "cell_type": "markdown",
   "id": "6b89e02f",
   "metadata": {},
   "source": [
    "You can run the cell below to test your code."
   ]
  },
  {
   "cell_type": "code",
   "execution_count": null,
   "id": "557fe2c6",
   "metadata": {},
   "outputs": [],
   "source": [
    "assert np.allclose(get_eigenvalues(2, 6, 8),np.array([-0.47213595,  8.47213595])), 'Basic test failed'\n",
    "assert np.allclose(get_eigenvalues(4, -4, 6),np.array([5,  -5])), 'Basic test failed'\n",
    "assert np.allclose(get_eigenvalues(4, -4, 6),np.array([5,  -5])), 'Basic test failed'\n",
    "assert np.allclose(get_eigenvalues(3, 3, -2),np.array([4,  2])), 'Basic test failed'\n",
    "assert np.allclose(get_orthogonal_matrix(2, 6, 8), np.array([[-0.85065081, -0.52573111],[ 0.52573111, -0.85065081]])), 'Basic test failed'\n",
    "assert np.allclose(get_orthogonal_matrix(3, 10, 0), np.array([[1.,0,],[0.,1.]])), 'Basic test failed'\n",
    "assert np.allclose(get_orthogonal_matrix(3, 3, -2),np.array([[ 0.70710678,  0.70710678],[-0.70710678,  0.70710678]])), 'Basic test failed'\n",
    "\n",
    "print('Function seems to work')"
   ]
  },
  {
   "cell_type": "markdown",
   "id": "0cc6bf09",
   "metadata": {},
   "source": [
    "### TODO 3  (0.25 pt): Determining the type of the conic\n",
    "\n",
    "Once you have the eigenvalues $\\lambda_1, \\lambda_2$ of $A$, then we know that if we perform the change of variable $[x,y]^T = Q[x',y']^T$, then the quadratic form becomes\n",
    "$$\n",
    "\\lambda_1 x'^2 + \\lambda_2y'^2 = c_4\n",
    "$$\n",
    "You may assume from now on that $c_4>0$ and that $\\lambda_1, \\lambda_2 >0$ (otherwise the equation does not admit any solution).\n",
    "\n",
    "Using the signs of the eigenvalues, we can now determine the type of the conic. Remember that\n",
    "\n",
    "* the canonical equation of an ellipse is of the form $\\frac{x^2}{a^2} + \\frac{y^2}{b^2} =1$\n",
    "\n",
    "* the canonical equation of an horizontal hyperbola is of the form $\\frac{x^2}{a^2} - \\frac{y^2}{b^2} =1$\n",
    "\n",
    "* the canonical equation of an vertical hyperbola is of the form $ -\\frac{x^2}{a^2} + \\frac{y^2}{b^2} =1$\n",
    "\n",
    "Make sure to also have a look at Figure 5.15 in Poole (page 416).\n",
    "\n",
    "We ask you to implement three functions `is_ellipse(c1, c2, c3, c4)`, `is_horiz_hyperbola(c1, c2, c3, c4)`, and `is_vert_hyperbola(c1, c2, c3, c4)` such that\n",
    "* `is_ellipse(c1, c2, c3, c4)` returns `True` if and only the conic associated with $\n",
    "c_1 x^2 + c_2 y^2 + c_3 xy  = c_4\n",
    "$ is an ellipse\n",
    "\n",
    "* `is_horiz_hyperbola(c1, c2, c3, c4)` returns `True` if and only the conic associated with $\n",
    "c_1 x^2 + c_2 y^2 + c_3 xy = c_4\n",
    "$ is an horizontal hyperbola\n",
    "\n",
    "* `is_vert_hyperbola(c1, c2, c3, c4)` returns `True` if and only the conic associated with $\n",
    "c_1 x^2 + c_2 y^2 + c_3 xy  = c_4\n",
    "$ is a vertical hyperbola\n",
    "\n",
    "Hint. Compute first the two eigenvalues and use their signs to determine if the conic is an ellipse, an horizontal hyperbola or a vertical parabola."
   ]
  },
  {
   "cell_type": "code",
   "execution_count": null,
   "id": "17b60892",
   "metadata": {},
   "outputs": [],
   "source": [
    "def is_ellipse(c1, c2, c3, c4):\n",
    "    # TODO\n",
    "    pass\n",
    "\n",
    "def is_horiz_hyperbola(c1, c2, c3, c4):\n",
    "    # TODO\n",
    "    pass\n",
    "                   \n",
    "def is_vert_hyperbola(c1, c2, c3, c4):\n",
    "    # TODO\n",
    "    pass"
   ]
  },
  {
   "cell_type": "markdown",
   "id": "972338d0",
   "metadata": {},
   "source": [
    "You can run the cell below to test your code."
   ]
  },
  {
   "cell_type": "code",
   "execution_count": null,
   "id": "488de65a",
   "metadata": {},
   "outputs": [],
   "source": [
    "assert is_ellipse(1,1,1,6), 'Basic test failed'\n",
    "assert not is_horiz_hyperbola(1,1,1,6), 'Basic test failed'\n",
    "assert not is_vert_hyperbola(1,1,1,6), 'Basic test failed'\n",
    "assert not is_ellipse(4,-4,6,5), 'Basic test failed'\n",
    "assert is_horiz_hyperbola(4,-4,6,5), 'Basic test failed'\n",
    "assert not is_vert_hyperbola(4,-4,6,5), 'Basic test failed'\n",
    "assert not is_ellipse(-4,4,6,5), 'Basic test failed'\n",
    "assert not is_horiz_hyperbola(-4,4,6,5), 'Basic test failed'\n",
    "assert is_vert_hyperbola(-4,4,6,5), 'Basic test failed'\n",
    "\n",
    "\n",
    "print('Function seems to work')"
   ]
  },
  {
   "attachments": {
    "ellipse.png": {
     "image/png": "[encoded data removed]"
    }
   },
   "cell_type": "markdown",
   "id": "7b058ce5",
   "metadata": {},
   "source": [
    "## Part 2: Plotting an ellipse\n",
    "\n",
    "Now that we can identify the type of the conic, we will plot each type, one by one. We will start by plotting the ellipse. In the library `matplotlib`, there is a module `patches` containing a class [Ellipse](https://matplotlib.org/stable/api/_as_gen/matplotlib.patches.Ellipse.html), which we are going to use. \n",
    "\n",
    "As you can see in the documentation page, in order to plot the ellipse, we have first to determine its characteristics, namely:\n",
    "* its centre (in our case, it is $(0,0)$)\n",
    "* its width\n",
    "* its height\n",
    "* its angle of rotation in degrees (anti-clockwise)\n",
    "\n",
    "![ellipse.png](attachment:ellipse.png)\n",
    "\n",
    "### TODO 4 (0.5 pt)computing the width and height of the ellipse\n",
    "\n",
    "In order to compute the characteristics of the ellipse, you need to implement first two functions `get_width(c1, c2, c3, c4)` and `get_height(c1, c2, c3, c4)` such that\n",
    "* `get_width(c1, c2, c3, c4)` returns the width of the ellipse  associated with $\n",
    "c_1 x^2 + c_2 y^2 + c_3 xy  = c_4\n",
    "$ \n",
    "\n",
    "* `get_height(c1, c2, c3, c4)` returns the height of the ellipse  associated with $\n",
    "c_1 x^2 + c_2 y^2 + c_3 xy  = c_4\n",
    "$ \n",
    "\n",
    "Hint. The width of an ellipse of the form $\\frac{x^2}{a^2} + \\frac{y^2}{b^2} =1$ is $2a$ and its height is $2b$. Remember also that the equation of the ellipse in the new coordinate system, is $\n",
    "\\lambda_1 x'^2 + \\lambda_2y'^2 = c_4\n",
    "$, where $\\lambda_1$ and $\\lambda_2$ are the eigenvalues of the matrix associated with $c_1 x^2 + c_2 y^2 + c_3 xy = c_4$."
   ]
  },
  {
   "cell_type": "code",
   "execution_count": null,
   "id": "da04a721",
   "metadata": {},
   "outputs": [],
   "source": [
    "def get_width(c1, c2, c3, c4):\n",
    "    # TODO\n",
    "    pass\n",
    "\n",
    "def get_height(c1, c2, c3, c4):\n",
    "    # TODO\n",
    "    pass"
   ]
  },
  {
   "cell_type": "markdown",
   "id": "c78ce5d9",
   "metadata": {},
   "source": [
    "You can run the cell below to test your code."
   ]
  },
  {
   "cell_type": "code",
   "execution_count": null,
   "id": "580945fd",
   "metadata": {},
   "outputs": [],
   "source": [
    "assert get_width(1,1,1,6) == 4, 'Basic test failed'\n",
    "assert np.isclose(get_height(1,1,1,6), 6.928203230275508), 'Basic test failed'\n",
    "assert np.isclose(get_height(2,1,1,6), 5.501717277280776), 'Basic test failed'\n",
    "assert np.isclose(get_width(2,1,1,6), 3.2975694297053626), 'Basic test failed'\n",
    "\n",
    "print('Function seems to work')"
   ]
  },
  {
   "cell_type": "markdown",
   "id": "4d99b1e0",
   "metadata": {},
   "source": [
    "### TODO 5 (0.25 pt): computing an arbitrary angle\n",
    "\n",
    "The last parameter missing of the ellipse is the angle between the $x$-axis and the horizontal axis of the ellipse.In order to be able to compute tha angle, we ask you to implement first a function `angle(v1, v2)` which given two vectors `v1` and `v2`, compute the angles in degrees between them. Note that `v1` and `v2` are 2D numpy arrays of dimensions $(2,1)$."
   ]
  },
  {
   "cell_type": "code",
   "execution_count": null,
   "id": "0af93662",
   "metadata": {},
   "outputs": [],
   "source": [
    "def angle(v1, v2):\n",
    "    # TODO\n",
    "    pass"
   ]
  },
  {
   "cell_type": "markdown",
   "id": "d2b8d01e",
   "metadata": {},
   "source": [
    "You can run the cell below to test your code."
   ]
  },
  {
   "cell_type": "code",
   "execution_count": null,
   "id": "0d45788f",
   "metadata": {},
   "outputs": [],
   "source": [
    "v1 = np.array([[2],[5]])\n",
    "v2 = np.array([[3],[8]])\n",
    "v3 = np.array([[-1],[-3]])\n",
    "\n",
    "assert math.isclose(angle(v1,v2), 1.24536426676802766), 'Basic test failed'\n",
    "assert math.isclose(angle(v3,v1), 176.63353933657007), 'Basic test failed'\n",
    "assert math.isclose(angle(v3,v2), 177.87890360333856), 'Basic test failed'\n",
    "\n",
    "print('Function seems to work')"
   ]
  },
  {
   "cell_type": "markdown",
   "id": "ecfcafd8",
   "metadata": {},
   "source": [
    "### TODO 6 (0.25 pt): computing the angle of the ellipse\n",
    "\n",
    "We can now compute the angle between the $x$-axis (with direction vector $e_1 = [0,1]^T$) and the horizontal axis of the ellipse. Remember that according to our change of variables $[x,y]^T = Q[x',y']^T$, a direction vector of the horizont axis of the ellipse, is $Qe_1$. You should implement a function `angle_ellipse(c1, c2, c3, c4)` which computes the angle between the $x$ axis and the horizontal axis of the ellipse associated with $c_1 x^2 + c_2 y^2 + c_3 xy  = c_4$."
   ]
  },
  {
   "cell_type": "code",
   "execution_count": null,
   "id": "15093547",
   "metadata": {},
   "outputs": [],
   "source": [
    "def angle_ellipse(c1, c2, c3, c4):\n",
    "    # TODO\n",
    "    pass"
   ]
  },
  {
   "cell_type": "markdown",
   "id": "0ca634e2",
   "metadata": {},
   "source": [
    "You can run the cell below to test your code."
   ]
  },
  {
   "cell_type": "code",
   "execution_count": null,
   "id": "e895f973",
   "metadata": {},
   "outputs": [],
   "source": [
    "assert np.isclose(angle_ellipse(1,1,1,6), 45), 'The angle of the ellipse is not correct'\n",
    "assert np.isclose(angle_ellipse(8,1,1,6), 4.065051177077993), 'The angle of the ellipse is not correct'\n",
    "assert np.isclose(angle_ellipse(8,5,1,5), 9.217474411461007), 'The angle of the ellipse is not correct'\n",
    "assert np.isclose(angle_ellipse(8,5,10,5), 36.650377883003195), 'The angle of the ellipse is not correct'\n",
    "\n",
    "print('Function seems to work')"
   ]
  },
  {
   "cell_type": "markdown",
   "id": "47f32ab9",
   "metadata": {},
   "source": [
    "Now that we are able to compute all the characteristics of an ellipse associated with an equation of the form $c_1 x^2 + c_2 y^2 + c_3 xy  = c_4$, we are ready to plot it. If all your previous functions are correct, `plot_ellipse(1,1,1,6,3,4)` should now plot the ellipse that you drew during the werkcollege (exercise $5.5.51$). "
   ]
  },
  {
   "cell_type": "code",
   "execution_count": null,
   "id": "62609741",
   "metadata": {},
   "outputs": [],
   "source": [
    "from matplotlib.patches import Ellipse\n",
    "\n",
    "def plot_ellipse(c1,c2,c3,c4,x_lim,y_lim):\n",
    "    if is_ellipse(c1, c2, c3, c4):\n",
    "        plt.figure()\n",
    "        ax = plt.gca()\n",
    "        ax.add_artist(Ellipse(\n",
    "            xy=(0,0),\n",
    "            width=get_width(c1, c2, c3, c4),\n",
    "            height=get_height(c1, c2, c3, c4),\n",
    "            angle=angle_ellipse(c1, c2, c2, c4),\n",
    "            fill=False, color='b'\n",
    "        ))\n",
    "        ax.set_xlim(-x_lim, x_lim)\n",
    "        ax.set_ylim(-y_lim, y_lim)\n",
    "        plt.show()\n",
    "\n",
    "plot_ellipse(1,1,1,6,4,4)"
   ]
  },
  {
   "cell_type": "markdown",
   "id": "7d99cc1f",
   "metadata": {},
   "source": [
    "Here are two more plots of ellipses using the functions you previously implemented."
   ]
  },
  {
   "cell_type": "code",
   "execution_count": null,
   "id": "e7a6c451",
   "metadata": {},
   "outputs": [],
   "source": [
    "plot_ellipse(3,3,-2,8,3,3)\n",
    "plot_ellipse(29,3,3,36,4,4)"
   ]
  },
  {
   "attachments": {
    "Screenshot%20from%202023-02-06%2008-31-59.png": {
     "image/png": "[encoded data removed]"
    }
   },
   "cell_type": "markdown",
   "id": "3a2906ea",
   "metadata": {},
   "source": [
    "#### Note:\n",
    "\n",
    "From this point, all the remaining exercises are bonus. \n",
    "\n",
    "\n",
    "## Part 3: Plotting an horizontal hyperbola\n",
    "\n",
    "Unlike for the ellipse, there is no module providing us an Hyperbola class. So we will ''patch together'' four graphs of functions (each graph is then plotted using the regular `plt.plot` function). In the picture below, you can see each graph in a different color.\n",
    "\n",
    "![Screenshot%20from%202023-02-06%2008-31-59.png](attachment:Screenshot%20from%202023-02-06%2008-31-59.png)"
   ]
  },
  {
   "attachments": {
    "horiz_hyperbola.png": {
     "image/png": "[encoded data removed]"
    }
   },
   "cell_type": "markdown",
   "id": "52bed207",
   "metadata": {},
   "source": [
    "Even though we will not proceed like in the case of the ellipse, we will still need the parameters of the hyperbola in order to plot it. In particular, we will need to compute the coordinates of its vertices $(a,0)$ and $(-a,0)$ (in the new coordinate system) and the coefficient $b$ such that the lines $y =\\frac{b}{a}x$ and $y =\\frac{-b}{a}x$ are the asymptotes of the hyperbola (in the new coordinate system).\n",
    "\n",
    "![horiz_hyperbola.png](attachment:horiz_hyperbola.png)\n",
    "\n",
    "### Bonus 7 (0.25 pt): computing the parameters of the hyperbola\n",
    "\n",
    "We ask you to implement first the functions `get_horiz_vertex(c1, c2, c3, c4)` and  `get_horiz_b(c1, c2, c3, c4)` such that \n",
    "* `get_horiz_vertex(c1, c2, c3, c4)` returns the coefficient $a$, \n",
    "\n",
    "* `get_horiz_b(c1, c2, c3, c4)` returns the coefficient $b$, \n",
    "\n",
    "where \n",
    "$$\n",
    " \\frac{x'^2}{a^2} - \\frac{y'^2}{b^2} =1\n",
    "$$\n",
    "is the canonical equation in the new coordinate system, of the hyberbola associated with the equation $c_1 x^2 + c_2 y^2 + c_3 xy  = c_4$.\n",
    "\n",
    "Hint. In the new coordinate system, the equation of the hyperbola is \n",
    "$\n",
    "\\lambda_1 x'^2 + \\lambda_2y'^2 = c_4\n",
    "$, where $\\lambda_1$ and $\\lambda_2$ are the eigenvalues of the matrix associated with $c_1 x^2 + c_2 y^2 + c_3 xy$. This equation is equivalent to\n",
    "$$\n",
    "\\frac{x'^2}{\\frac{c_4}{\\lambda_1}} - \\frac{y'^2}{\\frac{c_4}{\\lambda_2}} =1\n",
    "$$\n",
    "The function `get_eigenvalues` that you defined earlier, might also be helpful to define `get_horiz_vertex` and `get_horiz_b`."
   ]
  },
  {
   "cell_type": "code",
   "execution_count": null,
   "id": "9ce134e5",
   "metadata": {},
   "outputs": [],
   "source": [
    "def get_horiz_vertex(c1, c2, c3, c4): \n",
    "    # TODO\n",
    "    pass\n",
    "\n",
    "def get_horiz_b(c1, c2, c3, c4):\n",
    "    # TODO\n",
    "    pass"
   ]
  },
  {
   "cell_type": "markdown",
   "id": "c9701934",
   "metadata": {},
   "source": [
    "You can run the cell below to test your code."
   ]
  },
  {
   "cell_type": "code",
   "execution_count": null,
   "id": "17cd2669",
   "metadata": {},
   "outputs": [],
   "source": [
    "assert np.isclose(get_horiz_vertex(4,-4,6,5), 1), 'Basic test failed'\n",
    "assert np.isclose(get_horiz_vertex(8,4,7,9), 0.9472101642847701), 'Basic test failed'\n",
    "assert np.isclose(get_horiz_b(4,-4,6,5), 1), 'Basic test failed'\n",
    "assert np.isclose(get_horiz_b(-2,-3,10,9), 1.0936284439531412), 'Basic test failed'\n",
    "\n",
    "print('Function seems to work')"
   ]
  },
  {
   "attachments": {
    "Screenshot%20from%202023-02-06%2009-24-48.png": {
     "image/png": "[encoded data removed]"
    }
   },
   "cell_type": "markdown",
   "id": "66d2af0d",
   "metadata": {},
   "source": [
    "### Bonus 8 (0.25 pt): rotating the graph of a function\n",
    "\n",
    "Now that we can compute the coefficients $a$ and $b$, it would be easy to plot the hyperbola in the new coordinate system. However, this new coordinate system is obtained applyting a rotation to the ''old'' coordinate system. So we should be able to apply a rotation to the graph of a function.\n",
    "\n",
    "We ask you to implement a function `plot_rotated_graph(func, Q, x_min, x_max)` which given a function `func`, a rotation matrix `Q` and an interval `[x_min, x_max]` plots the graph obtained by applying the rotation to the graph of the function `func` over the interval `[x_min, x_max]`. \n",
    "\n",
    "So for example, if `square` is the square function ($x$ is mapped to $x^2$) and $Q = \\begin{bmatrix}0 & -1 \\\\ 1 & 0 \\end{bmatrix}$, then  `plot_rotated_graph(square, Q, -2, 2)` should plot the graph obtained by rotating of $90$ degrees the graph of the function $x^2$ over the interval $[-2,2]$.\n",
    "\n",
    "![Screenshot%20from%202023-02-06%2009-24-48.png](attachment:Screenshot%20from%202023-02-06%2009-24-48.png)\n",
    "\n",
    "Hint. This is quite similar to what you did in the first lab when you were rotating the dinosaur.\n",
    "\n",
    "#### Important: \n",
    "As in the first assignment about linear transformations, we ask you to not include the command `plt.show()` in your function. This would cause problems since we want to draw several graphs of functions within the same figure. "
   ]
  },
  {
   "cell_type": "code",
   "execution_count": null,
   "id": "e21b51d9",
   "metadata": {},
   "outputs": [],
   "source": [
    "def plot_rotated_graph(func, Q, x_min, x_max):\n",
    "    # TODO\n",
    "    pass"
   ]
  },
  {
   "cell_type": "markdown",
   "id": "43f12d75",
   "metadata": {},
   "source": [
    "If your function is correct, when running the cell below, you should see the graph obtained by rotating of $90$ degrees the graph of the function $x^2$ over the interval $[-2,2]$. You can play around (by modifying the inputs for `func` and `Q`) to check the correctness of your function."
   ]
  },
  {
   "cell_type": "code",
   "execution_count": null,
   "id": "8b6dc832",
   "metadata": {},
   "outputs": [],
   "source": [
    "# Compute f(x) = x^2\n",
    "square = lambda x: x**2\n",
    "\n",
    "Q = np.array([[0,-1], [1,0]])\n",
    "plot_rotated_graph(square, Q, -2, 2)"
   ]
  },
  {
   "attachments": {
    "Screenshot%20from%202023-02-06%2008-31-59.png": {
     "image/png": "[encoded data removed]"
    }
   },
   "cell_type": "markdown",
   "id": "d7931d56",
   "metadata": {},
   "source": [
    "### Bonus 9 (0.25 pt): plotting an horizontal hyperbola\n",
    "\n",
    "We can now compute the parameters of an horizontal hyperbola and rotate the graph of a function. This will allow us to finally plot the graph of an horizontal hyperbola. We ask you to implement a function `plot_horiz_hyperbola(c1, c2, c3, c4, x_lim)` plotting the graph of the horizontal hyperbola associated with the equation $c_1 x^2 + c_2 y^2 + c_3 xy = c_4$ over the interval $[-a-x_{\\text{lim}}, a+x_{\\text{lim}}]$, where $a$ is the coefficient defined in Bonus $7$.\n",
    "\n",
    "For example, `plot_horiz_hyperbola(4,-4,6,5,5)` would plot the following hyperbola\n",
    "\n",
    "![Screenshot%20from%202023-02-06%2008-31-59.png](attachment:Screenshot%20from%202023-02-06%2008-31-59.png)\n",
    "\n",
    "Hint 1. As mentioned at the beginning of Part $3$, we are ''patching together'' four graphs of functions (in the picture above, each graph is of a different colour). Remember that in the new coordinate system, the equation of the hyperbola is of the form $\n",
    " \\frac{x'^2}{a^2} - \\frac{y'^2}{b^2} =1\n",
    "$, where $a$ and $b$ are the coefficients defined in Bonus $7$. This is equivalent to\n",
    "$$\n",
    "y'^2 = \\frac{b^2x'^2}{a^2}- b^2\n",
    "$$\n",
    "This equation has two solutions:\n",
    "$$\n",
    "f_1(x') = \\sqrt{\\frac{b^2x'^2}{a^2}- b^2},  \\quad f_2(x') = -\\sqrt{\\frac{b^2x'^2}{a^2}- b^2}\n",
    "$$\n",
    "\n",
    "So if we look for example at the graph in blue (the graph at top right corner of the picture), it is the graph of the function\n",
    "$f_1(x')$\n",
    " over the interval $[a, a+x_{\\text{lim}}]$,\n",
    "while the graph in green is the graph of $f_1(x')$ over the interval $[-a-x_{\\text{lim}}, a]$. The graph in orange is the graph of the function $f_2(x') $\n",
    "over the interval $[a, a+x_{\\text{lim}}]$ and the graph in red is the graph of $f_2(x')$ over the interval $[-a-x_{\\text{lim}}, a]$.\n",
    "\n",
    "We can use `plt.plot` to plot those four graphs but as mentioned earlier, we need to apply a rotation (described by the matrix $Q$) to those four graphs. This is where you will need to use the function `plot_rotated_graph` that you defined earlier.\n",
    "\n",
    "Hint 2. As you have seen, the input `func` of `plot_rotated_graph` is a function. So you can use a function as an input for another function. You can use the usual keyword `def func(x): ...` in order to define `func`. But a cleaner/better way would be to use a [lambda function](https://www.w3schools.com/python/python_lambda.asp), which is an anonymous function you can easily define in one line. You can make the assignment without using lamba functions, but in case you know how to use lambda functions or you are interested to learn about them via the small linked tutorial, this might be a good opportunity.\n",
    "\n",
    "#### Important: \n",
    "Do not forget now to add `plt.show()` at the end of your function `plot_horiz_hyperbola`."
   ]
  },
  {
   "cell_type": "code",
   "execution_count": null,
   "id": "9ee07046",
   "metadata": {},
   "outputs": [],
   "source": [
    "def plot_horiz_hyperbola(c1, c2, c3, c4, x_lim):\n",
    "    # TODO\n",
    "    pass"
   ]
  },
  {
   "cell_type": "markdown",
   "id": "2b5310b4",
   "metadata": {},
   "source": [
    "If all your previous functions are correct, `plot_horiz_hyperbola(4,-4,6,5,5)` should now plot the hyperbola that you drew during the werkcollege (exercise $5.5.53$).  "
   ]
  },
  {
   "cell_type": "code",
   "execution_count": null,
   "id": "b4adc479",
   "metadata": {},
   "outputs": [],
   "source": [
    "plot_horiz_hyperbola(4,-4,6,5,5)"
   ]
  },
  {
   "cell_type": "markdown",
   "id": "9089ad27",
   "metadata": {},
   "source": [
    "## Part 4: Plotting a vertical hyperbola\n",
    "\n",
    "Now that we know how to plot an horizontal hyperbola, it should be easy to modify our functions, so that we can plot a vertical hyperbola. \n",
    "\n",
    "### Bonus 10 (0.25 pt): computing the parameters of a vertical hyperbola\n",
    "\n",
    "Similarly to the previous case, we ask you to implement first the functions `get_vert_vertex(c1, c2, c3, c4)` and  `get_vert_b(c1, c2, c3, c4` such that \n",
    "* `get_vert_vertex(c1, c2, c3, c4)` returns the coefficient $a$, \n",
    "\n",
    "* `get_vert_b(c1, c2, c3, c4)` returns the coefficient $b$, \n",
    "\n",
    "where \n",
    "$$\n",
    " -\\frac{x'^2}{a^2} + \\frac{y'^2}{b^2} =1\n",
    "$$\n",
    "is the canonical equation in the new coordinate system, of the hyberbola associated with the equation $c_1 x^2 + c_2 y^2 + c_3 xy  = c_4$."
   ]
  },
  {
   "cell_type": "code",
   "execution_count": null,
   "id": "b15beb1a",
   "metadata": {},
   "outputs": [],
   "source": [
    "def get_vert_vertex(c1, c2, c3, c4): \n",
    "    # TODO\n",
    "    pass\n",
    "\n",
    "def get_vert_b(c1, c2, c3, c4):\n",
    "    # TODO\n",
    "    pass"
   ]
  },
  {
   "cell_type": "markdown",
   "id": "38603273",
   "metadata": {},
   "source": [
    "You can run the cell below to test your code."
   ]
  },
  {
   "cell_type": "code",
   "execution_count": null,
   "id": "1ee4ad1a",
   "metadata": {},
   "outputs": [],
   "source": [
    "assert np.isclose(get_vert_vertex(-4,4,6,5), 1), 'Basic test failed'\n",
    "assert np.isclose(get_vert_vertex(-8,4,7,9), 1.003001123211927), 'Basic test failed'\n",
    "assert np.isclose(get_vert_b(-4,4,6,5), 1), 'Basic test failed'\n",
    "assert np.isclose(get_vert_b(-8,4,7,9), 1.3489145915135936), 'Basic test failed'\n",
    "\n",
    "print('Function seems to work')"
   ]
  },
  {
   "cell_type": "markdown",
   "id": "97f5773a",
   "metadata": {},
   "source": [
    "### Bonus 11 (0.25 pt): plotting a vertical hyperbola\n",
    "\n",
    "We finally ask you to implement a function `plot_vert_hyperbola(c1, c2, c3, c4, x_lim)` plotting the vertical hyperbola associated with the equation $c_1 x^2 + c_2 y^2 + c_3^2 xy  = c_4$, over the interval `[-x_lim, x_lim]`. Note that this function should be an easy adapation of the function `plot_horiz_hyperbola` and in particular, you probably want to use the function `plot_rotated_graph`."
   ]
  },
  {
   "cell_type": "code",
   "execution_count": null,
   "id": "4023d5d4",
   "metadata": {},
   "outputs": [],
   "source": [
    "def plot_vert_hyperbola(c1, c2, c3, c4, x_lim):\n",
    "    # TODO\n",
    "    pass"
   ]
  },
  {
   "cell_type": "markdown",
   "id": "0f7d2c59",
   "metadata": {},
   "source": [
    "If your function is correct, `plot_vert_hyperbola(-4,4,6,5,5)` should now plot the following hyperbola:"
   ]
  },
  {
   "cell_type": "code",
   "execution_count": null,
   "id": "a9d3ec38",
   "metadata": {},
   "outputs": [],
   "source": [
    "plot_vert_hyperbola(-4,4,6,5,5)"
   ]
  },
  {
   "cell_type": "markdown",
   "id": "860fa7b4",
   "metadata": {},
   "source": [
    "## Part 5: Plotting an arbitrary conic\n",
    "\n",
    "Now that we know how to plot each type of conic, we can use all of our functions to be able to plot an arbitrary quadratic form."
   ]
  },
  {
   "cell_type": "code",
   "execution_count": null,
   "id": "d482e16c",
   "metadata": {
    "scrolled": false
   },
   "outputs": [],
   "source": [
    "def plot_conics(c1,c2,c3,c4, x_lim, y_lim):\n",
    "    if is_ellipse(c1,c2,c3,c4):\n",
    "        plot_ellipse(c1,c2,c3,c4, x_lim, y_lim)\n",
    "    \n",
    "    elif is_horiz_hyperbola(c1,c2,c3,c4):\n",
    "        plot_horiz_hyperbola(c1,c2,c3,c4,x_lim)\n",
    "    \n",
    "    elif is_vert_hyperbola(c1,c2,c3,c4):\n",
    "        plot_vert_hyperbola(c1,c2,c3,c4,x_lim)\n",
    "\n",
    "# These should plot ellipses!\n",
    "plot_conics(3,3,-2,8,3,3)\n",
    "plot_conics(1,1,1,6,3,4)\n",
    "\n",
    "# Comment these out if you did not do the bonus exercises!\n",
    "plot_conics(4,-4,6,5,5,5)\n",
    "plot_conics(-4,4,6,5,5,5)\n",
    "plot_conics(4,4,10,9,5,5)"
   ]
  },
  {
   "cell_type": "code",
   "execution_count": null,
   "id": "801dc5e8",
   "metadata": {},
   "outputs": [],
   "source": []
  }
 ],
 "metadata": {
  "kernelspec": {
   "display_name": "Python 3 (ipykernel)",
   "language": "python",
   "name": "python3"
  },
  "language_info": {
   "codemirror_mode": {
    "name": "ipython",
    "version": 3
   },
   "file_extension": ".py",
   "mimetype": "text/x-python",
   "name": "python",
   "nbconvert_exporter": "python",
   "pygments_lexer": "ipython3",
   "version": "3.10.10"
  }
 },
 "nbformat": 4,
 "nbformat_minor": 5
}
